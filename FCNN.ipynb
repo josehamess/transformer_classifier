{
 "cells": [
  {
   "cell_type": "code",
   "execution_count": 1,
   "metadata": {
    "execution": {
     "iopub.execute_input": "2022-12-01T14:17:59.002799Z",
     "iopub.status.busy": "2022-12-01T14:17:59.002385Z",
     "iopub.status.idle": "2022-12-01T14:18:00.713208Z",
     "shell.execute_reply": "2022-12-01T14:18:00.712189Z",
     "shell.execute_reply.started": "2022-12-01T14:17:59.002719Z"
    }
   },
   "outputs": [],
   "source": [
    "import torch\n",
    "import torch.nn as nn\n",
    "import pickle\n",
    "from sklearn.metrics import accuracy_score\n",
    "import numpy as np"
   ]
  },
  {
   "cell_type": "code",
   "execution_count": 4,
   "metadata": {
    "execution": {
     "iopub.execute_input": "2022-12-01T14:18:58.952310Z",
     "iopub.status.busy": "2022-12-01T14:18:58.951899Z",
     "iopub.status.idle": "2022-12-01T14:18:58.958524Z",
     "shell.execute_reply": "2022-12-01T14:18:58.957081Z",
     "shell.execute_reply.started": "2022-12-01T14:18:58.952282Z"
    }
   },
   "outputs": [
    {
     "name": "stdout",
     "output_type": "stream",
     "text": [
      "Using cuda device\n"
     ]
    }
   ],
   "source": [
    "# Get cpu or gpu device for training\n",
    "device = \"cuda\" if torch.cuda.is_available() else \"cpu\"\n",
    "print(\"Using {} device\".format(device))"
   ]
  },
  {
   "cell_type": "code",
   "execution_count": 2,
   "metadata": {
    "execution": {
     "iopub.execute_input": "2022-12-01T14:18:03.659567Z",
     "iopub.status.busy": "2022-12-01T14:18:03.658954Z",
     "iopub.status.idle": "2022-12-01T14:18:03.745045Z",
     "shell.execute_reply": "2022-12-01T14:18:03.743970Z",
     "shell.execute_reply.started": "2022-12-01T14:18:03.659531Z"
    }
   },
   "outputs": [],
   "source": [
    "# load in train and test sets\n",
    "\n",
    "with open('data/train_fcnn', 'rb') as handle:\n",
    "    train = pickle.load(handle)\n",
    "with open('data/test_fcnn', 'rb') as handle:\n",
    "    test = pickle.load(handle)"
   ]
  },
  {
   "cell_type": "code",
   "execution_count": 13,
   "metadata": {
    "execution": {
     "iopub.execute_input": "2022-12-01T14:22:47.653126Z",
     "iopub.status.busy": "2022-12-01T14:22:47.651832Z",
     "iopub.status.idle": "2022-12-01T14:22:47.662549Z",
     "shell.execute_reply": "2022-12-01T14:22:47.661526Z",
     "shell.execute_reply.started": "2022-12-01T14:22:47.653085Z"
    }
   },
   "outputs": [],
   "source": [
    "class NeuralNet(nn.Module):\n",
    "    def __init__(self, emb_size):\n",
    "        super(NeuralNet, self).__init__()\n",
    "        self.emb_size = emb_size\n",
    "        self.fc1 = nn.Linear(self.emb_size, self.emb_size * 5)\n",
    "        self.fc2 = nn.Linear(self.emb_size * 5, int(self.emb_size/2))\n",
    "        self.fc3 = nn.Linear(int(self.emb_size/2), 20)\n",
    "        self.fc4 = nn.Linear(20, 1)\n",
    "        self.sigmoid = nn.Sigmoid()\n",
    "        self.tanh = nn.Tanh()\n",
    "        self.dropout = nn.Dropout(0.1)\n",
    "        self.layernorm1 = nn.LayerNorm((self.emb_size * 5))\n",
    "        self.layernorm2 = nn.LayerNorm((20))\n",
    "    \n",
    "\n",
    "    def forward(self, x):\n",
    "\n",
    "        x = self.fc1(x)\n",
    "        x = self.layernorm1(self.dropout(self.tanh(x)))\n",
    "        x = self.fc2(x)\n",
    "        x = self.tanh(x)\n",
    "        x = self.fc3(x)\n",
    "        x = self.layernorm2(self.tanh(x))\n",
    "        x = self.fc4(x)\n",
    "        x = self.sigmoid(x)\n",
    "\n",
    "        return x"
   ]
  },
  {
   "cell_type": "code",
   "execution_count": 14,
   "metadata": {
    "execution": {
     "iopub.execute_input": "2022-12-01T14:22:48.251450Z",
     "iopub.status.busy": "2022-12-01T14:22:48.251083Z",
     "iopub.status.idle": "2022-12-01T14:23:16.441007Z",
     "shell.execute_reply": "2022-12-01T14:23:16.439899Z",
     "shell.execute_reply.started": "2022-12-01T14:22:48.251425Z"
    }
   },
   "outputs": [
    {
     "name": "stdout",
     "output_type": "stream",
     "text": [
      "Average loss per text at epoch number 5 : 0.456311\n",
      "Average loss per text at epoch number 10 : 0.32582\n",
      "Average loss per text at epoch number 15 : 0.308023\n",
      "Average loss per text at epoch number 20 : 0.294298\n",
      "Average loss per text at epoch number 25 : 0.2822\n"
     ]
    }
   ],
   "source": [
    "# train NN\n",
    "\n",
    "torch.manual_seed(200206323)\n",
    "emb_size = train.shape[-1] - 1\n",
    "max_epochs = 30\n",
    "epoch_print_num = 5\n",
    "batch_size = 400\n",
    "criterion = nn.BCELoss()\n",
    "neuralnet = NeuralNet(emb_size=emb_size).to(device)\n",
    "optimizer = torch.optim.Adam(neuralnet.parameters(), lr=0.0001, weight_decay=0.0000001)\n",
    "trainloader = torch.utils.data.DataLoader(train, batch_size=batch_size, shuffle=True)\n",
    "running_loss = 0\n",
    "for epoch in range(max_epochs):\n",
    "    for batch in trainloader:\n",
    "        x_batch = batch[:, 0:-1].to(device)\n",
    "        y_batch = torch.reshape(batch[:, -1], (batch.shape[0], 1)).to(device)\n",
    "        if len(y_batch) != batch_size:\n",
    "            continue\n",
    "        optimizer.zero_grad()\n",
    "        estimate = neuralnet.forward(x_batch.clone().detach().requires_grad_(True).float())\n",
    "        loss = criterion(estimate, y_batch.clone().detach().requires_grad_(True).float())\n",
    "        loss.backward()\n",
    "        optimizer.step()\n",
    "        loss = loss.item()\n",
    "        running_loss += loss\n",
    "    if epoch % epoch_print_num == 0 and epoch > 0:\n",
    "        ave_loss = round(running_loss / (epoch_print_num * (train.shape[0] / batch_size)), 6)\n",
    "        print(f'Average loss per text at epoch number {epoch} : {ave_loss}')\n",
    "        running_loss = 0"
   ]
  },
  {
   "cell_type": "code",
   "execution_count": 8,
   "metadata": {
    "execution": {
     "iopub.execute_input": "2022-12-01T14:21:38.675063Z",
     "iopub.status.busy": "2022-12-01T14:21:38.674716Z",
     "iopub.status.idle": "2022-12-01T14:21:38.740230Z",
     "shell.execute_reply": "2022-12-01T14:21:38.738974Z",
     "shell.execute_reply.started": "2022-12-01T14:21:38.675037Z"
    }
   },
   "outputs": [
    {
     "name": "stdout",
     "output_type": "stream",
     "text": [
      "accuracy on test set: 0.85\n"
     ]
    }
   ],
   "source": [
    "# test on test set\n",
    "\n",
    "testloader = torch.utils.data.DataLoader(test, batch_size=test.shape[0], shuffle=False)\n",
    "with torch.no_grad():\n",
    "    for batch in testloader:\n",
    "        x_batch = batch[:, 0:-1].to(device)\n",
    "        y_batch = batch[:, -1]\n",
    "        estimate = np.array(neuralnet.eval().forward(x_batch.clone().detach().float()).cpu())\n",
    "accuracy = accuracy_score(y_batch, np.around(estimate, 0))\n",
    "print(f'accuracy on test set: {round(accuracy, 2)}')"
   ]
  },
  {
   "cell_type": "code",
   "execution_count": null,
   "metadata": {},
   "outputs": [],
   "source": []
  }
 ],
 "metadata": {
  "kernelspec": {
   "display_name": "Python 3 (ipykernel)",
   "language": "python",
   "name": "python3"
  },
  "language_info": {
   "codemirror_mode": {
    "name": "ipython",
    "version": 3
   },
   "file_extension": ".py",
   "mimetype": "text/x-python",
   "name": "python",
   "nbconvert_exporter": "python",
   "pygments_lexer": "ipython3",
   "version": "3.9.13"
  },
  "vscode": {
   "interpreter": {
    "hash": "aee8b7b246df8f9039afb4144a1f6fd8d2ca17a180786b69acc140d282b71a49"
   }
  }
 },
 "nbformat": 4,
 "nbformat_minor": 4
}
